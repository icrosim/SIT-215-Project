{
 "cells": [
  {
   "cell_type": "code",
   "execution_count": 36,
   "metadata": {},
   "outputs": [],
   "source": [
    "#importing all the modules needed for the project\n",
    "import gym\n",
    "import numpy as np\n",
    "import math, random, time\n",
    "from IPython.display import clear_output\n",
    "import matplotlib\n",
    "import matplotlib.pyplot as plt"
   ]
  },
  {
   "cell_type": "markdown",
   "metadata": {},
   "source": [
    "### Initialising Gym environment"
   ]
  },
  {
   "cell_type": "code",
   "execution_count": 37,
   "metadata": {},
   "outputs": [],
   "source": [
    "env = gym.make('CartPole-v0')"
   ]
  },
  {
   "cell_type": "markdown",
   "metadata": {},
   "source": [
    "### Random Policy"
   ]
  },
  {
   "cell_type": "code",
   "execution_count": 38,
   "metadata": {},
   "outputs": [
    {
     "name": "stdout",
     "output_type": "stream",
     "text": [
      "Results after 1000 episodes:\n",
      "Average timesteps per episode: 22.938\n"
     ]
    }
   ],
   "source": [
    "total_epochs = 0\n",
    "\n",
    "episodes = 1000 ##the number of episode you want to run the environment\n",
    "\n",
    "all_rewards = []##For calculating all the rewards\n",
    "episode_reward = 0##For calculating all the rewards\n",
    "\n",
    "for i in range(episodes): ##Creating a loop that runs though all the episodes\n",
    "    state = env.reset() ##Resets the environment and returns a random initial state.\n",
    "    epochs, reward = 0, 0\n",
    "    done = False\n",
    "    episode_reward = 0\n",
    "\n",
    "    while not done: \n",
    "        action = env.action_space.sample() ##taking action through the action space.\n",
    "        state, reward, done, info = env.step(action)\n",
    "        episode_reward+= reward ##storing reward for each episode\n",
    "        epochs += 1 ##number of passes of the entire training dataset\n",
    "    total_epochs += epochs\n",
    "    all_rewards.append(episode_reward) ##storing rewards for all episodes\n",
    "\n",
    "avg_time = total_epochs / episodes ## calculating avg time\n",
    "##Printing the results.\n",
    "print(f\"Results after {episodes} episodes:\")\n",
    "print(f\"Average timesteps per episode: {avg_time}\")"
   ]
  },
  {
   "cell_type": "code",
   "execution_count": 39,
   "metadata": {},
   "outputs": [
    {
     "data": {
      "image/png": "[encoded data removed]",
      "text/plain": [
       "<Figure size 432x288 with 1 Axes>"
      ]
     },
     "metadata": {
      "needs_background": "light"
     },
     "output_type": "display_data"
    }
   ],
   "source": [
    "#plotting the results\n",
    "plt.plot(all_rewards, linewidth = 1)\n",
    "plt.title(\"Random Policy\")\n",
    "plt.ylabel('Rewards')\n",
    "plt.xlabel('Iteration')\n",
    "plt.show()"
   ]
  },
  {
   "cell_type": "markdown",
   "metadata": {},
   "source": [
    "### Q learning Training and Implementation"
   ]
  },
  {
   "cell_type": "code",
   "execution_count": 40,
   "metadata": {},
   "outputs": [],
   "source": [
    "'''Creating buckets of cart position, cart velocity, pole angle and tip pole velocity\n",
    " with upper and lower limits to discretize the continuous state'''\n",
    "buckets = 4\n",
    "buckets = [\n",
    "np.linspace(-2.4, 2.4, buckets + 1)[1:-1],\n",
    "np.linspace(-3.0, 3.0, buckets + 1)[1:-1],\n",
    "np.linspace(-0.5, 0.5, buckets + 1)[1:-1],\n",
    "np.linspace(-2.0, 2.0, buckets + 1)[1:-1]\n",
    "        ]\n",
    "\n",
    "num_actions = 2\n",
    "max_buckets = max(len(buckets) for bucket in buckets)\n",
    "num_states = (max_buckets + 1) ** len(buckets)\n",
    "q_table = np.zeros(shape=(num_states, num_actions)) ## Creating q table"
   ]
  },
  {
   "cell_type": "code",
   "execution_count": 41,
   "metadata": {},
   "outputs": [],
   "source": [
    "#Function for discretizing states\n",
    "def discretize(observation):\n",
    "    state = sum(\n",
    "        np.digitize(x=feature, bins=buckets[i]) * ((max_buckets + 1) ** i)\n",
    "        for i, feature in enumerate(observation)\n",
    "    )\n",
    "    return state"
   ]
  },
  {
   "cell_type": "code",
   "execution_count": 52,
   "metadata": {},
   "outputs": [
    {
     "name": "stdout",
     "output_type": "stream",
     "text": [
      "Episode: 9900\n",
      "Training finished.\n",
      "\n",
      "Wall time: 7.31 s\n"
     ]
    }
   ],
   "source": [
    "%%time\n",
    "#Q learning Training\n",
    "alpha = 0.2\n",
    "gamma = 0.5\n",
    "epsilon = 0.1\n",
    "\n",
    "all_epochs = []\n",
    "episode_rewards = 0\n",
    "q_rewards = []\n",
    "episodes = 10000\n",
    "\n",
    "for i in range(episodes):##Creating a loop that runs though all the episodes\n",
    "    state = discretize(env.reset())##Resets the environment\n",
    "    epochs, reward = 0, 0\n",
    "    episode_rewards = 0\n",
    "    done = False\n",
    "\n",
    "    while not done:\n",
    "        '''explores the action space by evaluating epsilon value with a random number,\n",
    "        if value is less than epsilon value, it explors or else use the q table to take action'''\n",
    "        if random.uniform(0, 1) < epsilon:\n",
    "            action = env.action_space.sample()\n",
    "        else:\n",
    "            action = np.argmax(q_table[state])\n",
    "        '''updating the q table with max rewards'''\n",
    "        next_state, reward, done, info = env.step(action) \n",
    "        next_state = discretize(next_state)\n",
    "        episode_rewards += reward\n",
    "        old_value = q_table[state, action]\n",
    "        next_max = np.max(q_table[next_state])\n",
    "        new_value = (1 - alpha) * old_value + alpha * (reward + gamma * next_max)\n",
    "        q_table[state, action] = new_value\n",
    "\n",
    "        state = next_state\n",
    "        epochs += 1\n",
    "    ###storing all the rewards for each episode\n",
    "    q_rewards.append(episode_rewards)\n",
    "\n",
    "   \n",
    "    if i % 100 == 0:\n",
    "        clear_output(wait=True)\n",
    "        print(f\"Episode: {i}\")\n",
    "\n",
    "print(\"Training finished.\\n\")"
   ]
  },
  {
   "cell_type": "code",
   "execution_count": 48,
   "metadata": {},
   "outputs": [
    {
     "name": "stdout",
     "output_type": "stream",
     "text": [
      "Results after 100 episodes:\n",
      "Average timesteps per episode: 12.41\n"
     ]
    }
   ],
   "source": [
    "'''Implementing q learning algorithm and use q table to get maximum rewards and then giving output of results.'''\n",
    "total_epochs = 0\n",
    "episodes = 100\n",
    "\n",
    "for i in range(episodes):\n",
    "    state = env.reset()\n",
    "    state = discretize(state)\n",
    "    epochs, reward= 0, 0\n",
    "\n",
    "    done = False\n",
    "    while not done:\n",
    "        action = np.argmax(q_table[state])\n",
    "        state, reward, done, info = env.step(action)\n",
    "        state = discretize(state)\n",
    "        epochs += 1\n",
    "    total_epochs += epochs\n",
    "\n",
    "q_avg_time = total_epochs / episodes\n",
    "\n",
    "print(f\"Results after {episodes} episodes:\")\n",
    "print(f\"Average timesteps per episode: {q_avg_time}\")"
   ]
  },
  {
   "cell_type": "code",
   "execution_count": 53,
   "metadata": {},
   "outputs": [
    {
     "data": {
      "image/png": "[encoded data removed]",
      "text/plain": [
       "<Figure size 432x288 with 1 Axes>"
      ]
     },
     "metadata": {
      "needs_background": "light"
     },
     "output_type": "display_data"
    }
   ],
   "source": [
    "#plotting the results\n",
    "plt.plot(q_rewards, linewidth = 1)\n",
    "plt.title(\"Q Learning\")\n",
    "plt.ylabel('Rewards')\n",
    "plt.xlabel('Iteration')\n",
    "plt.show()"
   ]
  },
  {
   "cell_type": "code",
   "execution_count": null,
   "metadata": {},
   "outputs": [],
   "source": []
  }
 ],
 "metadata": {
  "kernelspec": {
   "display_name": "Python 3",
   "language": "python",
   "name": "python3"
  },
  "language_info": {
   "codemirror_mode": {
    "name": "ipython",
    "version": 3
   },
   "file_extension": ".py",
   "mimetype": "text/x-python",
   "name": "python",
   "nbconvert_exporter": "python",
   "pygments_lexer": "ipython3",
   "version": "3.7.4"
  }
 },
 "nbformat": 4,
 "nbformat_minor": 2
}
