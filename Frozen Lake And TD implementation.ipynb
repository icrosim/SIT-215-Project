{
 "cells": [
  {
   "cell_type": "code",
   "execution_count": 2,
   "metadata": {},
   "outputs": [],
   "source": [
    "import gym\n",
    "import numpy as np\n",
    "import math, random, time\n",
    "from IPython.display import clear_output\n",
    "#import\n",
    "from copy import deepcopy\n",
    "import matplotlib\n",
    "%matplotlib inline\n",
    "import matplotlib.pyplot as plt"
   ]
  },
  {
   "cell_type": "markdown",
   "metadata": {},
   "source": [
    "# Frozen Lake Environment"
   ]
  },
  {
   "cell_type": "code",
   "execution_count": 3,
   "metadata": {},
   "outputs": [],
   "source": [
    "#Lets use the Frozen Lake Environment\n",
    "env = gym.make('FrozenLake-v0')"
   ]
  },
  {
   "cell_type": "code",
   "execution_count": 4,
   "metadata": {},
   "outputs": [
    {
     "data": {
      "text/plain": [
       "Discrete(4)"
      ]
     },
     "execution_count": 4,
     "metadata": {},
     "output_type": "execute_result"
    }
   ],
   "source": [
    "#Lets check the environment Action space: how many total action can be taken\n",
    "env.action_space"
   ]
  },
  {
   "cell_type": "code",
   "execution_count": 5,
   "metadata": {},
   "outputs": [
    {
     "data": {
      "text/plain": [
       "Discrete(16)"
      ]
     },
     "execution_count": 5,
     "metadata": {},
     "output_type": "execute_result"
    }
   ],
   "source": [
    "#Environment Observation Space: States accessible to the agent\n",
    "env.observation_space"
   ]
  },
  {
   "cell_type": "markdown",
   "metadata": {},
   "source": [
    "## Q-Learning Implementation on Frozen Lake Environment"
   ]
  },
  {
   "cell_type": "code",
   "execution_count": 13,
   "metadata": {},
   "outputs": [],
   "source": [
    "# Action based on epsilon. here default epsilon value is kept 0.05; later we'll  find an optimal value for epsilon\n",
    "def epsilon_greedy_action(q, s, epsilon=0.05):\n",
    "    if np.random.rand() > epsilon:\n",
    "        return np.argmax(q[s])\n",
    "    return np.random.randint(4)"
   ]
  },
  {
   "cell_type": "code",
   "execution_count": 14,
   "metadata": {},
   "outputs": [],
   "source": [
    "## Function for calculating the average performance. \n",
    "def average_performance(policy_fct, q):\n",
    "    acc_returns = 0.\n",
    "    n = 500\n",
    "    for i in range(n):\n",
    "        done = False\n",
    "        s = env.reset()\n",
    "        while not done:\n",
    "            a = policy_fct(q, s)\n",
    "            s, reward, done, info = env.step(a)\n",
    "            acc_returns += reward\n",
    "    return acc_returns/n"
   ]
  },
  {
   "cell_type": "code",
   "execution_count": 15,
   "metadata": {},
   "outputs": [],
   "source": [
    "## Function for greedy policy\n",
    "def greedy_policy(q, s):\n",
    "    return np.argmax(q[s])\n"
   ]
  },
  {
   "cell_type": "code",
   "execution_count": 30,
   "metadata": {},
   "outputs": [
    {
     "name": "stdout",
     "output_type": "stream",
     "text": [
      "Average Timesteps Per Episode :  222.290565\n",
      "Success Percentage :  8.737\n"
     ]
    }
   ],
   "source": [
    "## Here we'll give the initial value to the Q Table. Being Optimistic, we've given '1' value to all the cells \n",
    "q = np.ones((16, 4)) # optimism\n",
    "#q = - np.ones((16, 4)) # pessimism \n",
    "#q = np.random.rand(16, 4) * 2. - 1. # random\n",
    "#q = np.zeros((16, 4))\n",
    "## Defining Parameters such as no of episodes, steps, epsilon, etc.\n",
    "nb_episodes = 200000\n",
    "STEPS=2000\n",
    "alpha = 0.001\n",
    "gamma = 1.\n",
    "epsion = 0.05\n",
    "#Q_performance Array. This will help us in finding results\n",
    "q_performance = np.ndarray(nb_episodes//STEPS) \n",
    "# Q-Learning: Off-policy TD control algorithm\n",
    "total_epochs=0\n",
    "total_reward=0\n",
    "for i in range(nb_episodes):\n",
    "    done = False\n",
    "    s = env.reset()\n",
    "    epochs=0\n",
    "    \n",
    "    while not done:\n",
    "        a = epsilon_greedy_action(q, s) # behaviour policy \n",
    "        new_s, reward, done, info = env.step(a)\n",
    "        a_max = np.argmax(q[new_s]) # estimation policy \n",
    "        q[s, a] = q[s, a] + alpha * (reward + gamma * q[new_s, a_max] - q[s, a])\n",
    "        s = new_s\n",
    "        \n",
    "        total_reward+=reward\n",
    "        epochs += 1\n",
    "        total_epochs += epochs\n",
    "        \n",
    "    # for plotting the performance    \n",
    "    if i%STEPS == 0:\n",
    "        q_performance[i//STEPS] = average_performance(greedy_policy, q)\n",
    "        \n",
    "# Calculating Average Timesteps per Epsiode, just like we did for the SARSA\n",
    "q_avg_time = total_epochs / nb_episodes\n",
    "#Calculating Q-Learning Success Rate\n",
    "q_success=100*(total_reward/nb_episodes)\n",
    "## printing Average TimeSteps per episode\n",
    "print(\"Average Timesteps Per Episode : \", q_avg_time)\n",
    "#Printing Success Percentage of Q-Learning on Frozen Lake\n",
    "print(\"Success Percentage : \", q_success)"
   ]
  },
  {
   "cell_type": "code",
   "execution_count": 19,
   "metadata": {},
   "outputs": [
    {
     "data": {
      "text/plain": [
       "Text(0.5, 1.0, 'Learning progress for Q-Learning')"
      ]
     },
     "execution_count": 19,
     "metadata": {},
     "output_type": "execute_result"
    },
    {
     "data": {
      "image/png": "[encoded data removed]",
      "text/plain": [
       "<Figure size 432x288 with 1 Axes>"
      ]
     },
     "metadata": {
      "needs_background": "light"
     },
     "output_type": "display_data"
    }
   ],
   "source": [
    "# Let's plot the results\n",
    "plt.plot(STEPS * np.arange(nb_episodes//STEPS), q_performance)\n",
    "plt.xlabel(\"epochs\")\n",
    "plt.ylabel(\"average reward of an epoch\")\n",
    "plt.title(\"Learning progress for Q-Learning\")"
   ]
  },
  {
   "cell_type": "markdown",
   "metadata": {},
   "source": [
    "The observation space is discrete, just like the taxi-problem and unlike the cart problem which had the continuous space."
   ]
  },
  {
   "cell_type": "markdown",
   "metadata": {},
   "source": [
    "# NOW Implementing SARSA on Frozen lake.\n",
    "Below are functions that we'll use for SARSA implementation"
   ]
  },
  {
   "cell_type": "code",
   "execution_count": 20,
   "metadata": {},
   "outputs": [],
   "source": [
    "#Get the action which will be taken by the epsilon_greedy_action function.\n",
    "def get_action(epsilon):\n",
    "    return lambda q,s: epsilon_greedy_action(q, s, epsilon=epsilon)"
   ]
  },
  {
   "cell_type": "code",
   "execution_count": 21,
   "metadata": {},
   "outputs": [],
   "source": [
    "## Function for plotting the performance of SARSA for finding optimal Epsilon \n",
    "def performance_plot(performance):\n",
    "    nb_plots = len(performance)\n",
    "    plt.figure(figsize=(10,20))\n",
    "    plt.suptitle(\"Learning progress depending on epsilon\")\n",
    "    for i, perf in enumerate(sorted(performance)):\n",
    "        plt.subplot(nb_plots, 1, i+1)\n",
    "        plt.plot(STEPS * np.arange(nb_episodes//STEPS), performance[perf], label=perf)\n",
    "        plt.xlabel(\"epochs\")\n",
    "        plt.ylim(-0.01,0.7)\n",
    "        plt.ylabel(\"average reward of an epoch\")\n",
    "        plt.legend()"
   ]
  },
  {
   "cell_type": "code",
   "execution_count": 22,
   "metadata": {},
   "outputs": [],
   "source": [
    "#Number of episodes\n",
    "nb_episodes = 200000"
   ]
  },
  {
   "cell_type": "code",
   "execution_count": 23,
   "metadata": {},
   "outputs": [],
   "source": [
    "#no of step\n",
    "STEPS = 2000"
   ]
  },
  {
   "cell_type": "code",
   "execution_count": 24,
   "metadata": {},
   "outputs": [],
   "source": [
    "# Our main function for implementing SARSA which is a On-policy TD control algorithm\n",
    "def sarsa(alpha = 0.02, \n",
    "              gamma = 1., \n",
    "              epsilon = 0.05,\n",
    "              q = None, \n",
    "              progress = None, \n",
    "              env=env):\n",
    "    #Variables for calculating success rate and average time-steps\n",
    "    total_epochs = 0\n",
    "    total_reward=0\n",
    "   \n",
    "    \n",
    "    if q is None:\n",
    "        q = np.ones((16,4)) \n",
    "    \n",
    "    for i in range(nb_episodes):\n",
    "        done = False\n",
    "        s = env.reset()\n",
    "        a = epsilon_greedy_action(q, s, epsilon=epsilon)\n",
    "        epochs=0\n",
    "        while not done:\n",
    "            new_s, reward, done, info = env.step(a)\n",
    "            new_a = epsilon_greedy_action(q, new_s, epsilon=epsilon)\n",
    "            q[s, a] = q[s, a] + alpha * (reward + gamma * q[new_s, new_a] - q[s, a]) #SARSA Equation\n",
    "            s = new_s\n",
    "            a = new_a\n",
    "            total_reward+=reward\n",
    "            epochs += 1\n",
    "            total_epochs += epochs\n",
    "            \n",
    "        \n",
    "        # only for plotting the performance, not part of the algorithm \n",
    "        if progress is not None and i%STEPS == 0:\n",
    "            progress[i//STEPS] = average_performance(get_action(epsilon), q=q)\n",
    "    \n",
    "    #store metrics\n",
    "    sarsa_avg_time = total_epochs / nb_episodes\n",
    "    success=100*total_reward/nb_episodes\n",
    "            \n",
    "    return q, progress, sarsa_avg_time,success"
   ]
  },
  {
   "cell_type": "markdown",
   "metadata": {},
   "source": [
    "### Uncomment below code for epsilon check\n",
    "As the no of episodes is large, this will take some time, that is why it is uncommented."
   ]
  },
  {
   "cell_type": "code",
   "execution_count": 16,
   "metadata": {},
   "outputs": [],
   "source": [
    "# param_performance = dict()\n",
    "# for param in np.arange(0.01, 0.11, 0.02):\n",
    "#     progress = np.zeros((nb_episodes//STEPS))\n",
    "#     _, param_performance[str(param)],_,_ = sarsa(epsilon=param, progress=progress)\n",
    "#     print (\"done:\", param)"
   ]
  },
  {
   "cell_type": "code",
   "execution_count": 17,
   "metadata": {},
   "outputs": [],
   "source": [
    "#performance_plot(param_performance)"
   ]
  },
  {
   "cell_type": "markdown",
   "metadata": {},
   "source": [
    "## SARSA Implementation on Optimal Epsilon Value\n",
    "As our optimal Epsilon value is 0.05, which is the also the default value of the SARSA function. we dont have to specify it explicitly "
   ]
  },
  {
   "cell_type": "code",
   "execution_count": 25,
   "metadata": {},
   "outputs": [],
   "source": [
    "## Implementing SARSA Here\n",
    "sarsa_performance = np.ndarray(nb_episodes//STEPS)\n",
    "q, sarsa_performance,sarsa_avg_timestep,success = sarsa(progress=sarsa_performance)"
   ]
  },
  {
   "cell_type": "code",
   "execution_count": 26,
   "metadata": {},
   "outputs": [
    {
     "name": "stdout",
     "output_type": "stream",
     "text": [
      "Average Timesteps Per Episode :  570.074115\n"
     ]
    }
   ],
   "source": [
    "# Printing the Average timesteps per episode\n",
    "print(\"Average Timesteps Per Episode : \", sarsa_avg_timestep)"
   ]
  },
  {
   "cell_type": "code",
   "execution_count": 27,
   "metadata": {},
   "outputs": [
    {
     "name": "stdout",
     "output_type": "stream",
     "text": [
      "Success Percentage :  28.9255\n"
     ]
    }
   ],
   "source": [
    "## Lets print the success percentage of SARSA \n",
    "print(\"Success Percentage : \", success)"
   ]
  },
  {
   "cell_type": "code",
   "execution_count": 28,
   "metadata": {},
   "outputs": [
    {
     "data": {
      "text/plain": [
       "Text(0, 0.5, 'average reward of an epoch')"
      ]
     },
     "execution_count": 28,
     "metadata": {},
     "output_type": "execute_result"
    },
    {
     "data": {
      "image/png": "[encoded data removed]",
      "text/plain": [
       "<Figure size 432x288 with 1 Axes>"
      ]
     },
     "metadata": {
      "needs_background": "light"
     },
     "output_type": "display_data"
    }
   ],
   "source": [
    "## Plotting the Results of SARSA\n",
    "plt.plot(STEPS*np.arange(nb_episodes//STEPS), sarsa_performance)\n",
    "plt.xlabel(\"epochs\")\n",
    "plt.title(\"Learning progress for SARSA\")\n",
    "plt.ylabel(\"average reward of an epoch\")"
   ]
  },
  {
   "cell_type": "code",
   "execution_count": 29,
   "metadata": {},
   "outputs": [
    {
     "name": "stdout",
     "output_type": "stream",
     "text": [
      "0.718\n"
     ]
    }
   ],
   "source": [
    "# Average Performance of SARSA\n",
    "print(average_performance(greedy_policy, q=q)) "
   ]
  },
  {
   "cell_type": "code",
   "execution_count": 31,
   "metadata": {},
   "outputs": [
    {
     "name": "stdout",
     "output_type": "stream",
     "text": [
      "Average Timesteps Per Episode :  222.290565\n"
     ]
    }
   ],
   "source": [
    "## printing Average TimeSteps per episode\n",
    "print(\"Average Timesteps Per Episode : \", q_avg_time)"
   ]
  },
  {
   "cell_type": "markdown",
   "metadata": {},
   "source": [
    "# CARTPOLE ENVIRONMENT"
   ]
  },
  {
   "cell_type": "markdown",
   "metadata": {},
   "source": [
    "## SARSA on CARTPOLE"
   ]
  },
  {
   "cell_type": "code",
   "execution_count": 32,
   "metadata": {},
   "outputs": [],
   "source": [
    "#Now Lets use the Cartpole Environment. We'll implement SARSA on this environment\n",
    "env = gym.make('CartPole-v0')"
   ]
  },
  {
   "cell_type": "code",
   "execution_count": 33,
   "metadata": {},
   "outputs": [
    {
     "data": {
      "text/plain": [
       "Box(4,)"
      ]
     },
     "execution_count": 33,
     "metadata": {},
     "output_type": "execute_result"
    }
   ],
   "source": [
    "#Observation Space of Cart-pole\n",
    "env.observation_space"
   ]
  },
  {
   "cell_type": "code",
   "execution_count": 34,
   "metadata": {},
   "outputs": [
    {
     "data": {
      "text/plain": [
       "Discrete(2)"
      ]
     },
     "execution_count": 34,
     "metadata": {},
     "output_type": "execute_result"
    }
   ],
   "source": [
    "#Action Space of Cartpole\n",
    "env.action_space"
   ]
  },
  {
   "cell_type": "markdown",
   "metadata": {},
   "source": [
    "### Modifying SARSA function for CARTPOLE\n",
    "Cartpole has a Continuos Observation space. we'll have perform discretization on that first."
   ]
  },
  {
   "cell_type": "code",
   "execution_count": 35,
   "metadata": {},
   "outputs": [],
   "source": [
    "# Declaring and Initializing the Variables.\n",
    "Q_table = np.zeros((2,2,8,4,2))\n",
    "alpha=0.3\n",
    "buckets=[2, 2, 8, 4]\n",
    "gamma=0.99"
   ]
  },
  {
   "cell_type": "code",
   "execution_count": 36,
   "metadata": {},
   "outputs": [],
   "source": [
    "#Function to discrete the states\n",
    "def toDiscreteStates(observation):\n",
    "    interval=[0 for i in range(len(observation))]\n",
    "    max_range=[2,3,0.42,3] #[4.8,3.4*(10**38),0.42,3.4*(10**38)]\n",
    "\n",
    "    for i in range(len(observation)):\n",
    "        data = observation[i]\n",
    "        inter = int(math.floor((data + max_range[i])/(2*max_range[i]/buckets[i])))\n",
    "        if inter>=buckets[i]:\n",
    "            interval[i]=buckets[i]-1\n",
    "        elif inter<0:\n",
    "            interval[i]=0\n",
    "        else:\n",
    "            interval[i]=inter\n",
    "    return interval"
   ]
  },
  {
   "cell_type": "code",
   "execution_count": 37,
   "metadata": {},
   "outputs": [],
   "source": [
    "def get_action(observation,t):\n",
    "    if np.random.random()<max(0.05, min(0.5, 1.0 - math.log10((t+1)/150.))):\n",
    "        return env.action_space.sample()\n",
    "    interval = toDiscreteStates(observation)\n",
    "\n",
    "    if Q_table[tuple(interval)][0] >=Q_table[tuple(interval)][1]:\n",
    "        return 0\n",
    "    else:\n",
    "        return 1\n",
    "\n",
    "def updateQ_SARSA(observation,reward,action,ini_obs,next_action,t):\n",
    "    interval = toDiscreteStates(observation)\n",
    "    Q_next = Q_table[tuple(interval)][next_action]\n",
    "    ini_interval = toDiscreteStates(ini_obs)\n",
    "    Q_table[tuple(ini_interval)][action]+=0.1*(reward + gamma*(Q_next) - Q_table[tuple(ini_interval)][action])"
   ]
  },
  {
   "cell_type": "code",
   "execution_count": 38,
   "metadata": {},
   "outputs": [],
   "source": [
    "#No of Episodes and STEPS\n",
    "Episodes=10000\n",
    "STEPS=100"
   ]
  },
  {
   "cell_type": "code",
   "execution_count": 39,
   "metadata": {},
   "outputs": [],
   "source": [
    "rewards=[]\n",
    "for i_episode in range(Episodes):\n",
    "    observation = env.reset()\n",
    "    t=0\n",
    "    while (True):\n",
    "        #env.render()\n",
    "        action = get_action(observation,i_episode)\n",
    "        observation1, reward, done, info = env.step(action)\n",
    "#         print observation1\n",
    "        next_action = get_action(observation1,i_episode)\n",
    "        updateQ_SARSA(observation1,reward,action,observation,next_action,t)\n",
    "        observation=observation1\n",
    "        action = next_action\n",
    "        t+=1\n",
    "        if done:\n",
    "            if i_episode%STEPS == 0:\n",
    "                rewards.append((t+1)/500)\n",
    "#             print(\"Episode finished after {} timesteps\".format(t+1))\n",
    "\n",
    "        \n",
    "            break"
   ]
  },
  {
   "cell_type": "code",
   "execution_count": 44,
   "metadata": {},
   "outputs": [
    {
     "data": {
      "image/png": "[encoded data removed]",
      "text/plain": [
       "<Figure size 432x288 with 1 Axes>"
      ]
     },
     "metadata": {
      "needs_background": "light"
     },
     "output_type": "display_data"
    }
   ],
   "source": [
    "#Plot the results\n",
    "plt.plot(STEPS * np.arange(Episodes//STEPS),rewards)\n",
    "plt.xlabel(\"epochs\")\n",
    "plt.ylabel(\"average reward of an epoch\")\n",
    "plt.title(\"Learning progress for CART-POLE SARSA\")\n",
    "plt.show()"
   ]
  },
  {
   "cell_type": "markdown",
   "metadata": {},
   "source": [
    "# THE END."
   ]
  }
 ],
 "metadata": {
  "kernelspec": {
   "display_name": "Python 3",
   "language": "python",
   "name": "python3"
  },
  "language_info": {
   "codemirror_mode": {
    "name": "ipython",
    "version": 3
   },
   "file_extension": ".py",
   "mimetype": "text/x-python",
   "name": "python",
   "nbconvert_exporter": "python",
   "pygments_lexer": "ipython3",
   "version": "3.7.4"
  }
 },
 "nbformat": 4,
 "nbformat_minor": 4
}
